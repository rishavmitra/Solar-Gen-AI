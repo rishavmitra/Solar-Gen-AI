{
 "cells": [
  {
   "cell_type": "code",
   "execution_count": 4,
   "metadata": {},
   "outputs": [],
   "source": [
    "# %%capture\n",
    "# !pip install openai\n",
    "# !pip install python-dotenv\n",
    "# !pip install urllib3"
   ]
  },
  {
   "cell_type": "code",
   "execution_count": 7,
   "metadata": {},
   "outputs": [
    {
     "data": {
      "text/plain": [
       "True"
      ]
     },
     "execution_count": 7,
     "metadata": {},
     "output_type": "execute_result"
    }
   ],
   "source": [
    "import json\n",
    "import os\n",
    "from dotenv import load_dotenv\n",
    "from openai import OpenAI\n",
    "import time\n",
    "import function_call_limit_functions as FC\n",
    "from function_call_tools import tools, instruction1, instruction2\n",
    "load_dotenv()"
   ]
  },
  {
   "cell_type": "markdown",
   "metadata": {},
   "source": [
    "#### The class AssistantManager will store functions for creating assistants, creating threads for the assistants, adding message to the threads, running the assistants. Then we will wait for the the completions and submit the response back to the assistant again for generating a response."
   ]
  },
  {
   "cell_type": "code",
   "execution_count": 8,
   "metadata": {},
   "outputs": [],
   "source": [
    "class AssistantManager:\n",
    "  def __init__(self,api_key:str,model:str=\"gpt-3.5-turbo-1106\"):\n",
    "    self.client = OpenAI(api_key=api_key)\n",
    "    self.model = model\n",
    "    self.assistant = None\n",
    "    self.thread = None\n",
    "    self.run = None\n",
    "    self.file = None\n",
    "    self.message = None\n",
    "\n",
    "  def create_assistant(self,name, instructions, tools,id):\n",
    "        assistant_file_path = './assistant.json'\n",
    "        if os.path.exists(assistant_file_path):\n",
    "          with open(assistant_file_path, 'r') as file:\n",
    "            assistant_data = json.load(file)\n",
    "            if f'{id}' in assistant_data:\n",
    "              assistant_id = assistant_data[f'{id}']['assistant_id']\n",
    "              self.assistant = self.client.beta.assistants.retrieve(assistant_id)\n",
    "              file.close()\n",
    "            else:\n",
    "               self.assistant = self.client.beta.assistants.create(\n",
    "                name = name,\n",
    "                instructions = instructions,\n",
    "                tools = tools,\n",
    "                model = self.model\n",
    "                )\n",
    "               assistant_data[f'{id}'] = {'assistant_id': self.assistant.id}\n",
    "               with open(assistant_file_path, 'w') as file:\n",
    "                json.dump(assistant_data, file)\n",
    "                file.close()\n",
    "               \n",
    "        else:\n",
    "            self.assistant = self.client.beta.assistants.create(\n",
    "                name = name,\n",
    "                instructions = instructions,\n",
    "                tools = tools,\n",
    "                model = self.model\n",
    "            )\n",
    "            with open(assistant_file_path, 'w') as file:\n",
    "              json.dump({f'{id}':{'assistant_id': self.assistant.id}}, file)\n",
    "              print(\"Created a new assistant and saved the ID.\")\n",
    "              file.close()\n",
    "\n",
    "  def create_thread(self,id):\n",
    "      thread_file_path = './assistant_thread.json'\n",
    "      if os.path.exists(thread_file_path):\n",
    "        with open(thread_file_path, 'r') as file:\n",
    "          thread_data = json.load(file)\n",
    "          if f'{id}' in thread_data:\n",
    "            thread_id = thread_data[f'{id}']['thread_id']\n",
    "            self.thread = self.client.beta.threads.retrieve(thread_id = thread_id)\n",
    "            file.close()\n",
    "          else:\n",
    "             self.thread = self.client.beta.threads.create()\n",
    "             thread_data[f'{id}'] = {'thread_id': self.thread.id}\n",
    "             with open(thread_file_path, 'w') as file:\n",
    "              json.dump(thread_data, file)\n",
    "              file.close()\n",
    "      else:\n",
    "        self.thread = self.client.beta.threads.create()\n",
    "        with open(thread_file_path, 'w') as file:\n",
    "              json.dump({f'{id}':{'thread_id': self.thread.id}}, file)\n",
    "              print(\"Created a new thread and saved the ID.\")\n",
    "              file.close()\n",
    "\n",
    "  def add_message_to_thread(self,role,content):\n",
    "    self.message = self.client.beta.threads.messages.create(\n",
    "      thread_id = self.thread.id,\n",
    "      role = role,\n",
    "      content = content\n",
    "    )\n",
    "\n",
    "  def run_assistant(self,instructions):\n",
    "    self.run = self.client.beta.threads.runs.create(\n",
    "      thread_id = self.thread.id,\n",
    "      assistant_id=self.assistant.id,\n",
    "      instructions = instructions\n",
    "    )\n",
    "\n",
    "  def process_messages(self):\n",
    "    messages = self.client.beta.threads.messages.list(thread_id = self.thread.id)\n",
    "\n",
    "    msg = messages.data[0]\n",
    "    role = msg.role\n",
    "    content = msg.content[0].text.value\n",
    "    #print(f\"{role.capitalize}:{content}\")\n",
    "    return content\n",
    "\n",
    "  def wait_for_completion(self):\n",
    "    while True:\n",
    "      time.sleep(5)\n",
    "      run_status = self.client.beta.threads.runs.retrieve(\n",
    "        thread_id = self.thread.id,\n",
    "        run_id = self.run.id\n",
    "      )\n",
    "      \n",
    "      print(run_status.status)\n",
    "      if run_status.status == 'completed':\n",
    "        return(self.process_messages())\n",
    "        break\n",
    "      elif run_status.status == 'requires_action':\n",
    "        print(\"Function Calling ...\")\n",
    "        self.call_required_functions(run_status.required_action.submit_tool_outputs.model_dump())\n",
    "      elif run_status.status==\"failed\":\n",
    "        print(run_status.last_error)\n",
    "        return (\"The assistant got rate limited, try again after some time or refresh the page and try again\")\n",
    "        break\n",
    "      else:\n",
    "        print(\"Waiting for the Assistant to process..\") \n",
    "  \n",
    "  def call_required_functions(self, required_actions):\n",
    "    tool_output = []\n",
    "\n",
    "    for action in required_actions[\"tool_calls\"]:\n",
    "      func_name = action['function']['name']\n",
    "      arguments = json.loads(action['function']['arguments'])\n",
    "      print(arguments)\n",
    "      print(func_name)\n",
    "      func_name = eval(\"FC.\"+func_name)\n",
    "      output = func_name(**arguments)\n",
    "      tool_output.append(\n",
    "        {\n",
    "          \"tool_call_id\":action['id'],\n",
    "          \"output\": str(output)\n",
    "        }\n",
    "      )\n",
    "    \n",
    "    print(\"Submitting outputs back to the Assistants...\")\n",
    "    self.client.beta.threads.runs.submit_tool_outputs(\n",
    "      thread_id = self.thread.id,\n",
    "      run_id = self.run.id,\n",
    "      tool_outputs=tool_output\n",
    "    )"
   ]
  },
  {
   "cell_type": "code",
   "execution_count": 9,
   "metadata": {},
   "outputs": [
    {
     "name": "stdout",
     "output_type": "stream",
     "text": [
      "Created a new assistant and saved the ID.\n"
     ]
    }
   ],
   "source": [
    "api_key = os.getenv(\"Open_AI_key\")\n",
    "manager = AssistantManager(api_key)\n",
    "\n",
    "manager.create_assistant(\n",
    "    name = \"Function_limit\",\n",
    "    instructions=instruction1,\n",
    "    tools = tools,\n",
    "    id = \"673224\"\n",
    ")"
   ]
  },
  {
   "cell_type": "code",
   "execution_count": 14,
   "metadata": {},
   "outputs": [
    {
     "name": "stdout",
     "output_type": "stream",
     "text": [
      "requires_action\n",
      "Function Calling ...\n",
      "{'text': \"Yesterday was a wonderful day! I spent the morning hiking through the forest, enjoying the crisp air and vibrant colors of autumn. In the afternoon, I met up with some friends for a delicious picnic by the lake. The laughter and camaraderie lifted my spirits, and I felt truly grateful for the simple joys of life. However, when I got home, I received some disappointing news that dampened my mood. Despite that, I'm choosing to focus on the positive moments and carry that happiness into today.\"}\n",
      "analyze_sentiment\n",
      "Submitting outputs back to the Assistants...\n",
      "completed\n",
      "The sentiment analysis of the given text indicates a \"positive\" sentiment.\n"
     ]
    }
   ],
   "source": [
    "time.sleep(5)\n",
    "manager.create_thread(id = \"673224\")\n",
    "\n",
    "manager.add_message_to_thread(role=\"user\",content=\"sentiment analysis for the text 'Yesterday was a wonderful day! I spent the morning hiking through the forest, enjoying the crisp air and vibrant colors of autumn. In the afternoon, I met up with some friends for a delicious picnic by the lake. The laughter and camaraderie lifted my spirits, and I felt truly grateful for the simple joys of life. However, when I got home, I received some disappointing news that dampened my mood. Despite that, I'm choosing to focus on the positive moments and carry that happiness into today.'\")\n",
    "\n",
    "manager.run_assistant(instruction2)\n",
    "print(manager.wait_for_completion())"
   ]
  },
  {
   "cell_type": "code",
   "execution_count": 15,
   "metadata": {},
   "outputs": [
    {
     "name": "stdout",
     "output_type": "stream",
     "text": [
      "requires_action\n",
      "Function Calling ...\n",
      "{'email': 'rishavmitra3'}\n",
      "is_valid_email\n",
      "Submitting outputs back to the Assistants...\n",
      "completed\n",
      "The email pattern \"rishavmitra3\" is not valid. Please make sure to include the appropriate email format (e.g., example@gmail.com).\n"
     ]
    }
   ],
   "source": [
    "time.sleep(5)\n",
    "manager.create_thread(id = \"673224\")\n",
    "\n",
    "manager.add_message_to_thread(role=\"user\",content=\"check the email rishavmitra3\")\n",
    "\n",
    "manager.run_assistant(instruction2)\n",
    "print(manager.wait_for_completion())"
   ]
  },
  {
   "cell_type": "code",
   "execution_count": 16,
   "metadata": {},
   "outputs": [
    {
     "name": "stdout",
     "output_type": "stream",
     "text": [
      "requires_action\n",
      "Function Calling ...\n",
      "{'password': 'rishavmitra3'}\n",
      "password_strength\n",
      "Submitting outputs back to the Assistants...\n",
      "completed\n",
      "The password \"rishavmitra3\" has been determined to have \"Strong\" strength.\n"
     ]
    }
   ],
   "source": [
    "time.sleep(5)\n",
    "manager.create_thread(id = \"673224\")\n",
    "\n",
    "manager.add_message_to_thread(role=\"user\",content=\"check the password rishavmitra3\")\n",
    "\n",
    "manager.run_assistant(instruction2)\n",
    "print(manager.wait_for_completion())"
   ]
  },
  {
   "cell_type": "code",
   "execution_count": 17,
   "metadata": {},
   "outputs": [
    {
     "name": "stdout",
     "output_type": "stream",
     "text": [
      "requires_action\n",
      "Function Calling ...\n",
      "{'temperature': 100.482, 'delta_energy': 30.12}\n",
      "calculate_entropy\n",
      "Submitting outputs back to the Assistants...\n",
      "completed\n",
      "The entropy calculated based on the given temperature of 100.482 Kelvin and delta energy of 30.12 Joules is approximately 0.2998 Joules/Kelvin.\n"
     ]
    }
   ],
   "source": [
    "time.sleep(5)\n",
    "manager.create_thread(id = \"673224\")\n",
    "\n",
    "manager.add_message_to_thread(role=\"user\",content=\"calculate the entropy for 30.12 Joules and 100.482 Kelvin\")\n",
    "\n",
    "manager.run_assistant(instruction2)\n",
    "print(manager.wait_for_completion())"
   ]
  },
  {
   "cell_type": "code",
   "execution_count": 19,
   "metadata": {},
   "outputs": [
    {
     "name": "stdout",
     "output_type": "stream",
     "text": [
      "requires_action\n",
      "Function Calling ...\n",
      "{'wavelength': 120, 'frequency': 50}\n",
      "wave_speed\n",
      "Submitting outputs back to the Assistants...\n",
      "completed\n",
      "The wave speed calculated with a wavelength of 120 meters and a frequency of 50 Hz is 6000 m/s.\n"
     ]
    }
   ],
   "source": [
    "time.sleep(5)\n",
    "manager.create_thread(id = \"673224\")\n",
    "\n",
    "manager.add_message_to_thread(role=\"user\",content=\"120 meters and 50 Hz\")\n",
    "\n",
    "manager.run_assistant(instruction2)\n",
    "print(manager.wait_for_completion())"
   ]
  },
  {
   "cell_type": "code",
   "execution_count": 20,
   "metadata": {},
   "outputs": [
    {
     "name": "stdout",
     "output_type": "stream",
     "text": [
      "requires_action\n",
      "Function Calling ...\n",
      "{'v0': 30, 'theta': 100}\n",
      "projectile_motion_range\n",
      "Submitting outputs back to the Assistants...\n",
      "completed\n",
      "The calculated range for the projectile motion with an initial velocity of 30 m/s and a launch angle of 100 degrees is approximately -31.41 meters. It's important to note that this negative value implies the projectile will land behind the launch point, likely due to the launch angle and initial velocity combination.\n"
     ]
    }
   ],
   "source": [
    "time.sleep(5)\n",
    "manager.create_thread(id = \"673224\")\n",
    "\n",
    "manager.add_message_to_thread(role=\"user\",content=\"Calculate the projectile motion for 100degrees and 30 m/s\")\n",
    "\n",
    "manager.run_assistant(instruction2)\n",
    "print(manager.wait_for_completion())"
   ]
  },
  {
   "cell_type": "code",
   "execution_count": 23,
   "metadata": {},
   "outputs": [
    {
     "name": "stdout",
     "output_type": "stream",
     "text": [
      "requires_action\n",
      "Function Calling ...\n",
      "{'celsius': 32}\n",
      "celsius_to_fahrenheit\n",
      "Submitting outputs back to the Assistants...\n",
      "completed\n",
      "32°C is equivalent to 89.6°F.\n"
     ]
    }
   ],
   "source": [
    "time.sleep(5)\n",
    "manager.create_thread(id = \"673224\")\n",
    "\n",
    "manager.add_message_to_thread(role=\"user\",content=\"Convert 32C\")\n",
    "\n",
    "manager.run_assistant(instruction2)\n",
    "print(manager.wait_for_completion())"
   ]
  },
  {
   "cell_type": "code",
   "execution_count": 24,
   "metadata": {},
   "outputs": [
    {
     "name": "stdout",
     "output_type": "stream",
     "text": [
      "requires_action\n",
      "Function Calling ...\n",
      "{'n': 50}\n",
      "even_squares\n",
      "Submitting outputs back to the Assistants...\n",
      "completed\n",
      "The even square numbers up to 50 are: 0, 4, 16, 36, 64, 100, 144, 196, 256, 324, 400, 484, 576, 676, 784, 900, 1024, 1156, 1296, 1444, 1600, 1764, 1936, 2116, and 2304.\n"
     ]
    }
   ],
   "source": [
    "time.sleep(5)\n",
    "manager.create_thread(id = \"673224\")\n",
    "\n",
    "manager.add_message_to_thread(role=\"user\",content=\"Find all even square number till 50\")\n",
    "\n",
    "manager.run_assistant(instruction2)\n",
    "print(manager.wait_for_completion())"
   ]
  },
  {
   "cell_type": "code",
   "execution_count": 26,
   "metadata": {},
   "outputs": [
    {
     "name": "stdout",
     "output_type": "stream",
     "text": [
      "requires_action\n",
      "Function Calling ...\n",
      "{'binary': '10001101'}\n",
      "binary_to_decimal\n",
      "Submitting outputs back to the Assistants...\n",
      "completed\n",
      "The decimal equivalent of the binary number 10001101 is 141.\n"
     ]
    }
   ],
   "source": [
    "time.sleep(5)\n",
    "manager.create_thread(id = \"673224\")\n",
    "\n",
    "manager.add_message_to_thread(role=\"user\",content=\"10001101 to decimal\")\n",
    "\n",
    "manager.run_assistant(instruction2)\n",
    "print(manager.wait_for_completion())"
   ]
  },
  {
   "cell_type": "code",
   "execution_count": 27,
   "metadata": {},
   "outputs": [
    {
     "name": "stdout",
     "output_type": "stream",
     "text": [
      "requires_action\n",
      "Function Calling ...\n",
      "{'address': '425 Stewart Dr, Mountain View, CA 94043'}\n",
      "weather_forecast\n",
      "Submitting outputs back to the Assistants...\n",
      "completed\n",
      "The weather in Mountain View, CA (425 Stewart Dr, 94043) is currently characterized by scattered clouds with a temperature of approximately 280.74 K (7.59°C), a minimum temperature of 279.46 K (6.31°C), and a maximum temperature of 282.19K (9.04°C). The wind speed is about 3.09 m/s coming from 160 degrees and the humidity level is at 91%.\n"
     ]
    }
   ],
   "source": [
    "time.sleep(5)\n",
    "manager.create_thread(id = \"673224\")\n",
    "\n",
    "manager.add_message_to_thread(role=\"user\",content=\"What is the weather like in 425 stewart dr mountian view ca 94043?\")\n",
    "\n",
    "manager.run_assistant(instruction2)\n",
    "print(manager.wait_for_completion())"
   ]
  },
  {
   "cell_type": "code",
   "execution_count": 28,
   "metadata": {},
   "outputs": [
    {
     "name": "stdout",
     "output_type": "stream",
     "text": [
      "requires_action\n",
      "Function Calling ...\n",
      "{'numbers': [1, 3, 4, 62, 72, 1, 20]}\n",
      "calculate_mean_std\n",
      "Submitting outputs back to the Assistants...\n",
      "completed\n",
      "For the given numbers 1, 3, 4, 62, 72, 1, and 20, the mean is approximately 23.29 and the standard deviation is approximately 28.43.\n"
     ]
    }
   ],
   "source": [
    "time.sleep(5)\n",
    "manager.create_thread(id = \"673224\")\n",
    "\n",
    "manager.add_message_to_thread(role=\"user\",content=\"Calculate the mean and standard deviation of 1,3,4,62,72,1,20\")\n",
    "\n",
    "manager.run_assistant(instruction2)\n",
    "print(manager.wait_for_completion())"
   ]
  },
  {
   "cell_type": "code",
   "execution_count": 29,
   "metadata": {},
   "outputs": [
    {
     "name": "stdout",
     "output_type": "stream",
     "text": [
      "requires_action\n",
      "Function Calling ...\n",
      "{'a': 6, 'b': 8, 'c': 21}\n",
      "solve_quadratic_equation\n",
      "Submitting outputs back to the Assistants...\n",
      "completed\n",
      "The roots of the quadratic equation 6x^2 + 8x + 21 are complex and given by: \n",
      "-0.67 + 1.75i (i is the imaginary unit) and -0.67 - 1.75i.\n"
     ]
    }
   ],
   "source": [
    "time.sleep(5)\n",
    "manager.create_thread(id = \"673224\")\n",
    "\n",
    "manager.add_message_to_thread(role=\"user\",content=\"Solve the equation 6x^2 + 8x + 21\")\n",
    "\n",
    "manager.run_assistant(instruction2)\n",
    "print(manager.wait_for_completion())"
   ]
  },
  {
   "cell_type": "code",
   "execution_count": 31,
   "metadata": {},
   "outputs": [
    {
     "name": "stdout",
     "output_type": "stream",
     "text": [
      "requires_action\n",
      "Function Calling ...\n",
      "{'weight_kg': 70, 'height_m': 1.532}\n",
      "calculate_bmi\n",
      "Submitting outputs back to the Assistants...\n",
      "completed\n",
      "The BMI calculated for a person weighing 70Kg and having a height of 1.532m is approximately 29.83.\n"
     ]
    }
   ],
   "source": [
    "time.sleep(5)\n",
    "manager.create_thread(id = \"673224\")\n",
    "\n",
    "manager.add_message_to_thread(role=\"user\",content=\"Calculate the BMI for 70Kg and 1.532m\")\n",
    "\n",
    "manager.run_assistant(instruction2)\n",
    "print(manager.wait_for_completion())"
   ]
  },
  {
   "cell_type": "code",
   "execution_count": 32,
   "metadata": {},
   "outputs": [
    {
     "name": "stdout",
     "output_type": "stream",
     "text": [
      "requires_action\n",
      "Function Calling ...\n",
      "{'x1': 50, 'y1': 21, 'x2': 30, 'y2': 75.5}\n",
      "calculate_distance\n",
      "Submitting outputs back to the Assistants...\n",
      "completed\n",
      "The distance between the points (50, 21) and (30, 75.5) is approximately 58.05 units.\n"
     ]
    }
   ],
   "source": [
    "time.sleep(5)\n",
    "manager.create_thread(id = \"673224\")\n",
    "\n",
    "manager.add_message_to_thread(role=\"user\",content=\"Calculate distance between (50,21) and (30,75.5)\")\n",
    "\n",
    "manager.run_assistant(instruction2)\n",
    "print(manager.wait_for_completion())"
   ]
  },
  {
   "cell_type": "code",
   "execution_count": 34,
   "metadata": {},
   "outputs": [
    {
     "name": "stdout",
     "output_type": "stream",
     "text": [
      "requires_action\n",
      "Function Calling ...\n",
      "{'principal': 2000, 'annual_interest_rate': 20, 'years': 1}\n",
      "calculate_monthly_payment\n",
      "Submitting outputs back to the Assistants...\n",
      "completed\n",
      "The monthly payment for a principal amount of $2000 at an interest rate of 20% for 1 year is approximately $185.27.\n"
     ]
    }
   ],
   "source": [
    "time.sleep(5)\n",
    "manager.create_thread(id = \"673224\")\n",
    "\n",
    "manager.add_message_to_thread(role=\"user\",content=\"Calculate my monthly payment for principal amount of $2000 at an interest of 20% for 1 year\")\n",
    "\n",
    "manager.run_assistant(instruction2)\n",
    "print(manager.wait_for_completion())"
   ]
  },
  {
   "cell_type": "code",
   "execution_count": null,
   "metadata": {},
   "outputs": [],
   "source": []
  }
 ],
 "metadata": {
  "kernelspec": {
   "display_name": "Python 3",
   "language": "python",
   "name": "python3"
  },
  "language_info": {
   "codemirror_mode": {
    "name": "ipython",
    "version": 3
   },
   "file_extension": ".py",
   "mimetype": "text/x-python",
   "name": "python",
   "nbconvert_exporter": "python",
   "pygments_lexer": "ipython3",
   "version": "3.11.0"
  }
 },
 "nbformat": 4,
 "nbformat_minor": 2
}
